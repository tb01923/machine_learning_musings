{
  "nbformat": 4,
  "nbformat_minor": 0,
  "metadata": {
    "colab": {
      "provenance": []
    },
    "kernelspec": {
      "name": "python3",
      "display_name": "Python 3"
    },
    "language_info": {
      "name": "python"
    }
  },
  "cells": [
    {
      "cell_type": "markdown",
      "source": [
        "# MINST classifier based on the examples within:\n",
        "\n",
        "*   Fundamentals of Deep Learning, 2nd Edition\n",
        "*   Programming PyTorch for Deep Learning\n"
      ],
      "metadata": {
        "id": "6DFanvP-_VtG"
      }
    },
    {
      "cell_type": "code",
      "execution_count": 2,
      "metadata": {
        "id": "ov9-JI-IP4r_"
      },
      "outputs": [],
      "source": [
        "import os\n",
        "import torch\n",
        "import torch.nn as nn\n",
        "import matplotlib.pyplot as plt\n",
        "\n",
        "from torch import optim\n",
        "#from PIL import Image\n",
        "#from torchvision import transforms\n",
        "from torch.utils.data import Dataset, DataLoader, random_split\n",
        "from torchvision.datasets import MNIST\n",
        "from torchvision.transforms import ToTensor"
      ]
    },
    {
      "cell_type": "markdown",
      "source": [
        "# The core objects and functions\n",
        "\n",
        "1. set up the base [classifier](https://learning.oreilly.com/library/view/fundamentals-of-deep/9781492082170/ch05.html#:-:text=class%20BaseClassifier(nn.Module)%3A)"
      ],
      "metadata": {
        "id": "TZZf2bT43a6s"
      }
    },
    {
      "cell_type": "code",
      "source": [
        "class BaseClassifier(nn.Module):\n",
        "  def __init__(self, in_dim, feature_dim, out_dim):\n",
        "    super(BaseClassifier, self).__init__()\n",
        "    # two layer classifier\n",
        "    self.classifier = nn.Sequential(\n",
        "      nn.Linear(in_dim, feature_dim, bias=True),\n",
        "      nn.ReLU(),\n",
        "      nn.Linear(feature_dim, out_dim, bias=True)\n",
        "    )\n",
        "\n",
        "  def forward(self, x):\n",
        "    return self.classifier(x)"
      ],
      "metadata": {
        "id": "7orjhuLTXpqx"
      },
      "execution_count": 3,
      "outputs": []
    },
    {
      "cell_type": "markdown",
      "source": [
        "2. create the classify function with the model.  Classify takes a tensor for the image data, and output the label: { 0, 1, ..9 }"
      ],
      "metadata": {
        "id": "W8Wg9b9mfVod"
      }
    },
    {
      "cell_type": "code",
      "source": [
        "def getClassify(model):\n",
        "  # put model in inference (prediciton) mode\n",
        "  model.eval()\n",
        "  def _classify(data) :\n",
        "    data = data.flatten(start_dim=1)\n",
        "    # run the classifier\n",
        "    out = model(data)\n",
        "    # derive the prediction\n",
        "    _, preds = out.max(dim=1)\n",
        "    return (out, preds)\n",
        "  return _classify"
      ],
      "metadata": {
        "id": "SqXt3sPrejtr"
      },
      "execution_count": 4,
      "outputs": []
    },
    {
      "cell_type": "markdown",
      "source": [
        "3. define the [training loop](https://learning.oreilly.com/library/view/fundamentals-of-deep/9781492082170/ch05.html#:-:text=def%20train(classifier,epochs%2C%0A%C2%A0%C2%A0%C2%A0%C2%A0%C2%A0%C2%A0%C2%A0%C2%A0%C2%A0%C2%A0loss_fn%3Dloss_fn)%3A), inputs the base classifier, an optimization function, loss function and the number of epocks"
      ],
      "metadata": {
        "id": "P9pU1C3z3sDk"
      }
    },
    {
      "cell_type": "code",
      "source": [
        "def train(classifier, loader, optimizer, epochs, loss_fn):\n",
        "  classifier.train()\n",
        "  total_training_loss = []\n",
        "  for epoch in range(epochs):\n",
        "    epoch_loss = 0.0\n",
        "\n",
        "    num_batches = len(loader)\n",
        "    # for each \"tensor of images\" in the training set minibatch\n",
        "    for minibatch in loader:\n",
        "      data, target = minibatch\n",
        "      data = data.flatten(start_dim=1)\n",
        "\n",
        "      # run the classifier\n",
        "      out = classifier(data)\n",
        "      # calculate the loss from the prediciton and the true \"label\"\n",
        "      minibatch_loss = loss_fn(out, target)\n",
        "      # calculate the partial derivatives of the weights, and\n",
        "      #   have the optimizer update the weights\n",
        "      minibatch_loss.backward()\n",
        "      optimizer.step()\n",
        "      # [COMMON MISTAKE] zero out the gradients otherwise they will increment\n",
        "      optimizer.zero_grad()\n",
        "\n",
        "      # keep track of the running loss for this minibatch\n",
        "      epoch_loss += minibatch_loss.item()\n",
        "\n",
        "    # append running loss from minibatch tot he\n",
        "    total_training_loss.append(epoch_loss/num_batches)\n",
        "    print(\"Epoch: {} train loss: {}\".format(epoch+1, epoch_loss/num_batches))\n",
        "  return total_training_loss\n"
      ],
      "metadata": {
        "id": "NlIUyEFK17VE"
      },
      "execution_count": 5,
      "outputs": []
    },
    {
      "cell_type": "markdown",
      "source": [
        "4. define the test loop"
      ],
      "metadata": {
        "id": "iAAEw47xJY4s"
      }
    },
    {
      "cell_type": "code",
      "source": [
        "def test(classify, loader, loss_fn):\n",
        "  accuracy = 0.0\n",
        "\n",
        "  with torch.no_grad():\n",
        "      computed_loss = 0.0\n",
        "      # for each minibatch in the loader (TODO, does the tester have minibatches?)\n",
        "      for data, target in loader:\n",
        "          data = data.flatten(start_dim=1)\n",
        "\n",
        "          # run the classifier\n",
        "          out, preds = classify(data)\n",
        "\n",
        "          # Get loss and accuracy\n",
        "          computed_loss += loss_fn(out, target)\n",
        "          # accuracy increases when the prediciton\n",
        "          #  is the same as the attached lable\n",
        "          accuracy += torch.sum(preds==target)\n",
        "\n",
        "      # calculate the length\n",
        "      length = len(loader)*64\n",
        "\n",
        "      print(\"Test loss: {}, test accuracy: {}\".format(\n",
        "          computed_loss.item()/length,\n",
        "          accuracy*100.0/length))\n",
        "\n",
        "      return accuracy * 100 / length"
      ],
      "metadata": {
        "id": "7xDFNzALIBbi"
      },
      "execution_count": 6,
      "outputs": []
    },
    {
      "cell_type": "markdown",
      "source": [
        " 5. define a function that plots the loss from the training exercise, for no real reason other than to look at it"
      ],
      "metadata": {
        "id": "fm-d9Ma5CIgU"
      }
    },
    {
      "cell_type": "code",
      "source": [
        "def plot_loss(title, loss):\n",
        "  l = len(loss)\n",
        "  plt.plot([i for i in range(1,l+1)], loss)\n",
        "  plt.xlabel(\"Epoch\")\n",
        "  plt.ylabel(\"Training Loss\")\n",
        "  plt.title(title)\n",
        "  plt.show()"
      ],
      "metadata": {
        "id": "6CcAklBy-Yte"
      },
      "execution_count": 7,
      "outputs": []
    },
    {
      "cell_type": "markdown",
      "source": [
        "# Train the classifier\n",
        "\n",
        "1. load MNIST training and test as pytorch **DataSet**, and construct the pytorch **DataLoader**"
      ],
      "metadata": {
        "id": "La_aNxSH4CXL"
      }
    },
    {
      "cell_type": "code",
      "source": [
        "# for random numbers\n",
        "generator = torch.Generator().manual_seed(42)\n",
        "\n",
        "# create datasets\n",
        "train_dataset = MNIST(\".\", train=True, download=True, transform=ToTensor())\n",
        "\n",
        "# MINST doesn't separate testing from validation so use the\n",
        "#  random_split function to allocate 80% to test and 20% to validation\n",
        "temp_dataset  = MNIST(\".\", train=False, download=True, transform=ToTensor())\n",
        "test_dataset, validation_dataset = random_split(temp_dataset, [.8, .2], generator)\n",
        "\n",
        "train_loader  = DataLoader(train_dataset, batch_size=64, shuffle=True)\n",
        "test_loader   = DataLoader(test_dataset, batch_size=64, shuffle=False)"
      ],
      "metadata": {
        "id": "t3eq61a-d-sB",
        "colab": {
          "base_uri": "https://localhost:8080/"
        },
        "outputId": "0345f046-1ec0-44a6-c07f-511ec604e67f"
      },
      "execution_count": 8,
      "outputs": [
        {
          "output_type": "stream",
          "name": "stdout",
          "text": [
            "Downloading http://yann.lecun.com/exdb/mnist/train-images-idx3-ubyte.gz\n",
            "Downloading http://yann.lecun.com/exdb/mnist/train-images-idx3-ubyte.gz to ./MNIST/raw/train-images-idx3-ubyte.gz\n"
          ]
        },
        {
          "output_type": "stream",
          "name": "stderr",
          "text": [
            "100%|██████████| 9912422/9912422 [00:00<00:00, 140409150.99it/s]"
          ]
        },
        {
          "output_type": "stream",
          "name": "stdout",
          "text": [
            "Extracting ./MNIST/raw/train-images-idx3-ubyte.gz to ./MNIST/raw\n"
          ]
        },
        {
          "output_type": "stream",
          "name": "stderr",
          "text": [
            "\n"
          ]
        },
        {
          "output_type": "stream",
          "name": "stdout",
          "text": [
            "\n",
            "Downloading http://yann.lecun.com/exdb/mnist/train-labels-idx1-ubyte.gz\n",
            "Downloading http://yann.lecun.com/exdb/mnist/train-labels-idx1-ubyte.gz to ./MNIST/raw/train-labels-idx1-ubyte.gz\n"
          ]
        },
        {
          "output_type": "stream",
          "name": "stderr",
          "text": [
            "100%|██████████| 28881/28881 [00:00<00:00, 12363308.21it/s]\n"
          ]
        },
        {
          "output_type": "stream",
          "name": "stdout",
          "text": [
            "Extracting ./MNIST/raw/train-labels-idx1-ubyte.gz to ./MNIST/raw\n",
            "\n",
            "Downloading http://yann.lecun.com/exdb/mnist/t10k-images-idx3-ubyte.gz\n",
            "Downloading http://yann.lecun.com/exdb/mnist/t10k-images-idx3-ubyte.gz to ./MNIST/raw/t10k-images-idx3-ubyte.gz\n"
          ]
        },
        {
          "output_type": "stream",
          "name": "stderr",
          "text": [
            "100%|██████████| 1648877/1648877 [00:00<00:00, 57116476.14it/s]\n"
          ]
        },
        {
          "output_type": "stream",
          "name": "stdout",
          "text": [
            "Extracting ./MNIST/raw/t10k-images-idx3-ubyte.gz to ./MNIST/raw\n",
            "\n",
            "Downloading http://yann.lecun.com/exdb/mnist/t10k-labels-idx1-ubyte.gz\n",
            "Downloading http://yann.lecun.com/exdb/mnist/t10k-labels-idx1-ubyte.gz to ./MNIST/raw/t10k-labels-idx1-ubyte.gz\n"
          ]
        },
        {
          "output_type": "stream",
          "name": "stderr",
          "text": [
            "100%|██████████| 4542/4542 [00:00<00:00, 5940295.84it/s]\n"
          ]
        },
        {
          "output_type": "stream",
          "name": "stdout",
          "text": [
            "Extracting ./MNIST/raw/t10k-labels-idx1-ubyte.gz to ./MNIST/raw\n",
            "\n"
          ]
        }
      ]
    },
    {
      "cell_type": "markdown",
      "source": [
        "2. Train classifier, and capture the loss after every epoch (this bit takes 5-10 minutes)"
      ],
      "metadata": {
        "id": "0F7tRl0AAar9"
      }
    },
    {
      "cell_type": "code",
      "source": [
        "# define the classifier\n",
        "learning_rate = 1e-3\n",
        "in_dim, feature_dim, out_dim = 784, 256, 10\n",
        "#in_dim, feature_dim, out_dim = 784, 10, 10\n",
        "classifier = BaseClassifier(in_dim, feature_dim, out_dim)\n",
        "\n",
        "# instantiate stochasit gradient descent optimizer\n",
        "optimizer = optim.SGD(classifier.parameters(), lr=learning_rate)\n",
        "\n",
        "#train the classifier, with train_dataset\n",
        "num_epochs = 30 #40\n",
        "training_loss = train(classifier=classifier, loader=train_loader, optimizer=optimizer, epochs=num_epochs, loss_fn=nn.CrossEntropyLoss())\n",
        "\n",
        "# save the trained model\n",
        "torch.save(classifier.state_dict(), 'mnist.pt')\n",
        "\n"
      ],
      "metadata": {
        "colab": {
          "base_uri": "https://localhost:8080/"
        },
        "id": "kujKbynb3FKy",
        "outputId": "b8b21da6-7024-4fc0-c2f9-105ca4fdf8a0"
      },
      "execution_count": 23,
      "outputs": [
        {
          "output_type": "stream",
          "name": "stdout",
          "text": [
            "Epoch: 1 train loss: 2.212143858104372\n",
            "Epoch: 2 train loss: 1.9809187730746483\n",
            "Epoch: 3 train loss: 1.68478576041488\n",
            "Epoch: 4 train loss: 1.3795010527568077\n",
            "Epoch: 5 train loss: 1.130164593648809\n",
            "Epoch: 6 train loss: 0.9516653852549188\n",
            "Epoch: 7 train loss: 0.8277315775087393\n",
            "Epoch: 8 train loss: 0.7397947373674877\n",
            "Epoch: 9 train loss: 0.6749279873012733\n",
            "Epoch: 10 train loss: 0.6254087780266683\n",
            "Epoch: 11 train loss: 0.5863993720713455\n",
            "Epoch: 12 train loss: 0.5549107039216231\n",
            "Epoch: 13 train loss: 0.5290097204734013\n",
            "Epoch: 14 train loss: 0.5074076200090746\n",
            "Epoch: 15 train loss: 0.48896180010680707\n",
            "Epoch: 16 train loss: 0.47319716319981925\n",
            "Epoch: 17 train loss: 0.45935816130340734\n",
            "Epoch: 18 train loss: 0.44722082812204034\n",
            "Epoch: 19 train loss: 0.43675307039894273\n",
            "Epoch: 20 train loss: 0.42710321279032143\n",
            "Epoch: 21 train loss: 0.4187374030793908\n",
            "Epoch: 22 train loss: 0.41085793411553795\n",
            "Epoch: 23 train loss: 0.4039383700915745\n",
            "Epoch: 24 train loss: 0.39757432340622456\n",
            "Epoch: 25 train loss: 0.39172131538009847\n",
            "Epoch: 26 train loss: 0.3863204165117573\n",
            "Epoch: 27 train loss: 0.3813224980857835\n",
            "Epoch: 28 train loss: 0.37656065025754065\n",
            "Epoch: 29 train loss: 0.37228843997091626\n",
            "Epoch: 30 train loss: 0.3682111668815491\n"
          ]
        }
      ]
    },
    {
      "cell_type": "markdown",
      "source": [
        "3. plot the loss (just to visualize it)"
      ],
      "metadata": {
        "id": "-iBvafBqDQ2P"
      }
    },
    {
      "cell_type": "code",
      "source": [
        "title = \"MNIST Training Loss: optimizer {}, lr {}\".format(\"SGD\", learning_rate)\n",
        "plot_loss(title, training_loss)"
      ],
      "metadata": {
        "colab": {
          "base_uri": "https://localhost:8080/",
          "height": 472
        },
        "id": "Xf55TwMGBCvy",
        "outputId": "dabe7cc1-76b0-4383-8d23-b4d3a46117bc"
      },
      "execution_count": 24,
      "outputs": [
        {
          "output_type": "display_data",
          "data": {
            "text/plain": [
              "<Figure size 640x480 with 1 Axes>"
            ],
            "image/png": "[encoded data removed]"
          },
          "metadata": {}
        }
      ]
    },
    {
      "cell_type": "markdown",
      "source": [
        "4. test the classifier and show the accuracy"
      ],
      "metadata": {
        "id": "UyP4Y7vSMQMy"
      }
    },
    {
      "cell_type": "code",
      "source": [
        "classify = getClassify(classifier)\n",
        "accuracy = test(classify, test_loader, nn.CrossEntropyLoss())\n",
        "print(\"total accuracy:\", accuracy.item())"
      ],
      "metadata": {
        "colab": {
          "base_uri": "https://localhost:8080/"
        },
        "id": "14DqcsE4JgWk",
        "outputId": "b34fe976-3bf2-4802-d1c9-1b73dce3bbe6"
      },
      "execution_count": 25,
      "outputs": [
        {
          "output_type": "stream",
          "name": "stdout",
          "text": [
            "Test loss: 0.005364204883575439, test accuracy: 90.6875\n",
            "total accuracy: 90.6875\n"
          ]
        }
      ]
    },
    {
      "cell_type": "markdown",
      "source": [
        "5. pick some images from the validation dataset and a) classify them, and then plot that image and the correct label"
      ],
      "metadata": {
        "id": "s4iTA0QXiJiE"
      }
    },
    {
      "cell_type": "code",
      "source": [
        "labels_map = {\n",
        "    1: \"one\",\n",
        "    2: \"two\",\n",
        "    3: \"three\",\n",
        "    4: \"four\",\n",
        "    5: \"five\",\n",
        "    6: \"six\",\n",
        "    7: \"seven\",\n",
        "    8: \"eight\",\n",
        "    9: \"nine\",\n",
        "    0: \"zero\"\n",
        "}\n",
        "\n",
        "\n",
        "length = len(validation_dataset)\n",
        "\n",
        "#todo: I couldn't figure out how to get this to plt in a grid of say 12\n",
        "# https://pytorch.org/tutorials/beginner/basics/data_tutorial.html\n",
        "for i in range(1,2):\n",
        "  sample_idx = torch.randint(length, size=(1,)).item()\n",
        "  img, label = validation_dataset[sample_idx]\n",
        "\n",
        "  # classify return the loss and predictions\n",
        "  weights, predicted_label = classify(img)\n",
        "  # in this case we only passed in one image and\n",
        "  #   only want one prediction so extract it\n",
        "  predicted_label = predicted_label.item()\n",
        "\n",
        "  # plot image with predicted label and true label\n",
        "  title = \"guess: \" + labels_map[predicted_label] + \"; actual: \" + labels_map[label]\n",
        "  plt.title(title)\n",
        "  plt.axis(\"off\")\n",
        "  plt.imshow(img.squeeze(), cmap=\"gray\")\n",
        "  plt.show()"
      ],
      "metadata": {
        "colab": {
          "base_uri": "https://localhost:8080/",
          "height": 428
        },
        "id": "ON2uOmUuOGjj",
        "outputId": "c2f41936-274c-43b2-bace-d30150d9b837"
      },
      "execution_count": 13,
      "outputs": [
        {
          "output_type": "display_data",
          "data": {
            "text/plain": [
              "<Figure size 640x480 with 1 Axes>"
            ],
            "image/png": "[encoded data removed]"
          },
          "metadata": {}
        }
      ]
    },
    {
      "cell_type": "code",
      "source": [
        "loss"
      ],
      "metadata": {
        "id": "dMSNkw-qDUkd",
        "outputId": "4ff665e1-8357-41bd-9d52-584f5cd5ffee",
        "colab": {
          "base_uri": "https://localhost:8080/"
        }
      },
      "execution_count": 32,
      "outputs": [
        {
          "output_type": "execute_result",
          "data": {
            "text/plain": [
              "tensor([[ 1.6804, -5.0462,  0.9508, -2.1133,  0.8790,  2.3084,  7.2444, -5.7561,\n",
              "         -0.2180, -0.8438]], grad_fn=<AddmmBackward0>)"
            ]
          },
          "metadata": {},
          "execution_count": 32
        }
      ]
    }
  ]
}