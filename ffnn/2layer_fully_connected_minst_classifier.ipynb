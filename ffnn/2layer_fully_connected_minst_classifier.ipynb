{
  "nbformat": 4,
  "nbformat_minor": 0,
  "metadata": {
    "colab": {
      "provenance": []
    },
    "kernelspec": {
      "name": "python3",
      "display_name": "Python 3"
    },
    "language_info": {
      "name": "python"
    }
  },
  "cells": [
    {
      "cell_type": "markdown",
      "source": [
        "# MINST classifier based on the examples within:\n",
        "\n",
        "*   Fundamentals of Deep Learning, 2nd Edition\n",
        "*   Programming PyTorch for Deep Learning\n"
      ],
      "metadata": {
        "id": "6DFanvP-_VtG"
      }
    },
    {
      "cell_type": "code",
      "execution_count": 1,
      "metadata": {
        "id": "ov9-JI-IP4r_"
      },
      "outputs": [],
      "source": [
        "import os\n",
        "import torch\n",
        "import torch.nn as nn\n",
        "import matplotlib.pyplot as plt\n",
        "\n",
        "from torch import optim\n",
        "#from PIL import Image\n",
        "#from torchvision import transforms\n",
        "from torch.utils.data import Dataset, DataLoader, random_split\n",
        "from torchvision.datasets import MNIST\n",
        "from torchvision.transforms import ToTensor"
      ]
    },
    {
      "cell_type": "markdown",
      "source": [
        "# The core objects and functions\n",
        "\n",
        "1. set up the base [classifier](https://learning.oreilly.com/library/view/fundamentals-of-deep/9781492082170/ch05.html#:-:text=class%20BaseClassifier(nn.Module)%3A)"
      ],
      "metadata": {
        "id": "TZZf2bT43a6s"
      }
    },
    {
      "cell_type": "code",
      "source": [
        "class BaseClassifier(nn.Module):\n",
        "  def __init__(self, in_dim, feature_dim, out_dim):\n",
        "    super(BaseClassifier, self).__init__()\n",
        "    # two layer classifier\n",
        "    self.classifier = nn.Sequential(\n",
        "      nn.Linear(in_dim, feature_dim, bias=True),\n",
        "      nn.ReLU(),\n",
        "      nn.Linear(feature_dim, out_dim, bias=True)\n",
        "    )\n",
        "\n",
        "  def forward(self, x):\n",
        "    return self.classifier(x)"
      ],
      "metadata": {
        "id": "7orjhuLTXpqx"
      },
      "execution_count": 2,
      "outputs": []
    },
    {
      "cell_type": "markdown",
      "source": [
        "2. define the [training loop](https://learning.oreilly.com/library/view/fundamentals-of-deep/9781492082170/ch05.html#:-:text=def%20train(classifier,epochs%2C%0A%C2%A0%C2%A0%C2%A0%C2%A0%C2%A0%C2%A0%C2%A0%C2%A0%C2%A0%C2%A0loss_fn%3Dloss_fn)%3A), inputs the base classifier, an optimization function, loss function and the number of epocks"
      ],
      "metadata": {
        "id": "P9pU1C3z3sDk"
      }
    },
    {
      "cell_type": "code",
      "source": [
        "def train(classifier, loader, optimizer, epochs, loss_fn):\n",
        "  classifier.train()\n",
        "  total_training_loss = []\n",
        "  for epoch in range(epochs):\n",
        "    epoch_loss = 0.0\n",
        "\n",
        "    num_batches = len(loader)\n",
        "    # for each \"tensor of images\" in the training set minibatch\n",
        "    for minibatch in loader:\n",
        "      data, target = minibatch\n",
        "      data = data.flatten(start_dim=1)\n",
        "\n",
        "      # run the classifier\n",
        "      out = classifier(data)\n",
        "      # calculate the loss from the prediciton and the true \"label\"\n",
        "      minibatch_loss = loss_fn(out, target)\n",
        "      # calculate the partial derivatives of the weights, and\n",
        "      #   have the optimizer update the weights\n",
        "      minibatch_loss.backward()\n",
        "      optimizer.step()\n",
        "      # [COMMON MISTAKE] zero out the gradients otherwise they will increment\n",
        "      optimizer.zero_grad()\n",
        "\n",
        "      # keep track of the running loss for this minibatch\n",
        "      epoch_loss += minibatch_loss.item()\n",
        "\n",
        "    # append running loss from minibatch tot he\n",
        "    total_training_loss.append(epoch_loss/num_batches)\n",
        "    print(\"Epoch: {} train loss: {}\".format(epoch+1, epoch_loss/num_batches))\n",
        "  return total_training_loss\n"
      ],
      "metadata": {
        "id": "NlIUyEFK17VE"
      },
      "execution_count": 3,
      "outputs": []
    },
    {
      "cell_type": "markdown",
      "source": [
        "3. define the test loop"
      ],
      "metadata": {
        "id": "iAAEw47xJY4s"
      }
    },
    {
      "cell_type": "code",
      "source": [
        "def test(classifier, loader, loss_fn):\n",
        "  # put model in inference (prediciton) mode (TODO, this prolly shouldn't cbe here)\n",
        "  classifier.eval()\n",
        "  accuracy = 0.0\n",
        "\n",
        "  with torch.no_grad():\n",
        "      computed_loss = 0.0\n",
        "      # for each minibatch in the loader (TODO, does the tester have minibatches?)\n",
        "      for data, target in loader:\n",
        "          data = data.flatten(start_dim=1)\n",
        "\n",
        "          # run the classifier\n",
        "          out = classifier(data)\n",
        "          # derive the prediction\n",
        "          _, preds = out.max(dim=1)\n",
        "\n",
        "          # Get loss and accuracy\n",
        "          computed_loss += loss_fn(out, target)\n",
        "          # accuracy increases when the prediciton\n",
        "          #  is the same as the attached lable\n",
        "          accuracy += torch.sum(preds==target)\n",
        "\n",
        "      # calculate the length\n",
        "      length = len(loader)*64\n",
        "\n",
        "      print(\"Test loss: {}, test accuracy: {}\".format(\n",
        "          computed_loss.item()/length,\n",
        "          accuracy*100.0/length))\n",
        "\n",
        "      return accuracy * 100 / length"
      ],
      "metadata": {
        "id": "7xDFNzALIBbi"
      },
      "execution_count": 4,
      "outputs": []
    },
    {
      "cell_type": "markdown",
      "source": [
        "4. create the classify function with the model.  Classify takes a tensor for the image data, and output the label: { 0, 1, ..9 }"
      ],
      "metadata": {
        "id": "W8Wg9b9mfVod"
      }
    },
    {
      "cell_type": "code",
      "source": [
        "def getClassify(model):\n",
        "  def _classify(data) :\n",
        "    data = data.flatten(start_dim=1)\n",
        "    # run the classifier\n",
        "    out = model(data)\n",
        "    # derive the prediction\n",
        "    _, preds = out.max(dim=1)\n",
        "    return preds.item()\n",
        "  return _classify"
      ],
      "metadata": {
        "id": "SqXt3sPrejtr"
      },
      "execution_count": 10,
      "outputs": []
    },
    {
      "cell_type": "markdown",
      "source": [
        " 5. define a function that plots the loss from the training exercise, for no real reason other than to look at it"
      ],
      "metadata": {
        "id": "fm-d9Ma5CIgU"
      }
    },
    {
      "cell_type": "code",
      "source": [
        "def plot_loss(title, loss):\n",
        "  l = len(loss)\n",
        "  plt.plot([i for i in range(1,l+1)], loss)\n",
        "  plt.xlabel(\"Epoch\")\n",
        "  plt.ylabel(\"Training Loss\")\n",
        "  plt.title(title)\n",
        "  plt.show()"
      ],
      "metadata": {
        "id": "6CcAklBy-Yte"
      },
      "execution_count": 7,
      "outputs": []
    },
    {
      "cell_type": "markdown",
      "source": [
        "# Train the classifier\n",
        "\n",
        "1. load MNIST training and test as pytorch **DataSet**, and construct the pytorch **DataLoader**"
      ],
      "metadata": {
        "id": "La_aNxSH4CXL"
      }
    },
    {
      "cell_type": "code",
      "source": [
        "# for random numbers\n",
        "generator = torch.Generator().manual_seed(42)\n",
        "\n",
        "# create datasets\n",
        "train_dataset = MNIST(\".\", train=True, download=True, transform=ToTensor())\n",
        "\n",
        "# MINST doesn't separate testing from validation so use the\n",
        "#  random_split function to allocate 80% to test and 20% to validation\n",
        "temp_dataset  = MNIST(\".\", train=False, download=True, transform=ToTensor())\n",
        "test_dataset, validation_dataset = random_split(temp_dataset, [.8, .2], generator)\n",
        "\n",
        "train_loader  = DataLoader(train_dataset, batch_size=64, shuffle=True)\n",
        "test_loader   = DataLoader(test_dataset, batch_size=64, shuffle=False)"
      ],
      "metadata": {
        "id": "t3eq61a-d-sB",
        "outputId": "39264267-d232-4120-8a7a-d3bca607a2b7",
        "colab": {
          "base_uri": "https://localhost:8080/"
        }
      },
      "execution_count": 8,
      "outputs": [
        {
          "output_type": "stream",
          "name": "stdout",
          "text": [
            "Downloading http://yann.lecun.com/exdb/mnist/train-images-idx3-ubyte.gz\n",
            "Downloading http://yann.lecun.com/exdb/mnist/train-images-idx3-ubyte.gz to ./MNIST/raw/train-images-idx3-ubyte.gz\n"
          ]
        },
        {
          "output_type": "stream",
          "name": "stderr",
          "text": [
            "100%|██████████| 9912422/9912422 [00:00<00:00, 82756837.89it/s]\n"
          ]
        },
        {
          "output_type": "stream",
          "name": "stdout",
          "text": [
            "Extracting ./MNIST/raw/train-images-idx3-ubyte.gz to ./MNIST/raw\n",
            "\n",
            "Downloading http://yann.lecun.com/exdb/mnist/train-labels-idx1-ubyte.gz\n",
            "Downloading http://yann.lecun.com/exdb/mnist/train-labels-idx1-ubyte.gz to ./MNIST/raw/train-labels-idx1-ubyte.gz\n"
          ]
        },
        {
          "output_type": "stream",
          "name": "stderr",
          "text": [
            "100%|██████████| 28881/28881 [00:00<00:00, 45132523.78it/s]"
          ]
        },
        {
          "output_type": "stream",
          "name": "stdout",
          "text": [
            "Extracting ./MNIST/raw/train-labels-idx1-ubyte.gz to ./MNIST/raw\n",
            "\n",
            "Downloading http://yann.lecun.com/exdb/mnist/t10k-images-idx3-ubyte.gz\n",
            "Downloading http://yann.lecun.com/exdb/mnist/t10k-images-idx3-ubyte.gz to ./MNIST/raw/t10k-images-idx3-ubyte.gz\n"
          ]
        },
        {
          "output_type": "stream",
          "name": "stderr",
          "text": [
            "\n",
            "100%|██████████| 1648877/1648877 [00:00<00:00, 28981651.08it/s]\n"
          ]
        },
        {
          "output_type": "stream",
          "name": "stdout",
          "text": [
            "Extracting ./MNIST/raw/t10k-images-idx3-ubyte.gz to ./MNIST/raw\n",
            "\n",
            "Downloading http://yann.lecun.com/exdb/mnist/t10k-labels-idx1-ubyte.gz\n",
            "Downloading http://yann.lecun.com/exdb/mnist/t10k-labels-idx1-ubyte.gz to ./MNIST/raw/t10k-labels-idx1-ubyte.gz\n"
          ]
        },
        {
          "output_type": "stream",
          "name": "stderr",
          "text": [
            "100%|██████████| 4542/4542 [00:00<00:00, 16667129.28it/s]\n"
          ]
        },
        {
          "output_type": "stream",
          "name": "stdout",
          "text": [
            "Extracting ./MNIST/raw/t10k-labels-idx1-ubyte.gz to ./MNIST/raw\n",
            "\n"
          ]
        }
      ]
    },
    {
      "cell_type": "markdown",
      "source": [
        "2. Train classifier, and capture the loss after every epoch (this bit takes 5-10 minutes)"
      ],
      "metadata": {
        "id": "0F7tRl0AAar9"
      }
    },
    {
      "cell_type": "code",
      "source": [
        "# define the classifier\n",
        "learning_rate = 1e-3\n",
        "in_dim, feature_dim, out_dim = 784, 256, 10\n",
        "classifier = BaseClassifier(in_dim, feature_dim, out_dim)\n",
        "\n",
        "# instantiate stochasit gradient descent optimizer\n",
        "optimizer = optim.SGD(classifier.parameters(), lr=learning_rate)\n",
        "\n",
        "#train the classifier, with train_dataset\n",
        "num_epochs = 20 #40\n",
        "training_loss = train(classifier=classifier, loader=train_loader, optimizer=optimizer, epochs=num_epochs, loss_fn=nn.CrossEntropyLoss())\n",
        "\n",
        "# save the trained model\n",
        "torch.save(classifier.state_dict(), 'mnist.pt')\n",
        "\n"
      ],
      "metadata": {
        "colab": {
          "base_uri": "https://localhost:8080/"
        },
        "id": "kujKbynb3FKy",
        "outputId": "d9a673d7-e1aa-4383-b658-e10a11cab801"
      },
      "execution_count": 9,
      "outputs": [
        {
          "output_type": "stream",
          "name": "stdout",
          "text": [
            "Epoch: 1 train loss: 2.21607149003157\n",
            "Epoch: 2 train loss: 1.979302618930589\n",
            "Epoch: 3 train loss: 1.6729559234972955\n",
            "Epoch: 4 train loss: 1.3612527262681582\n",
            "Epoch: 5 train loss: 1.1131179963093576\n",
            "Epoch: 6 train loss: 0.9384828210512458\n",
            "Epoch: 7 train loss: 0.8178613418455063\n",
            "Epoch: 8 train loss: 0.7321147437987805\n",
            "Epoch: 9 train loss: 0.6686700641918284\n",
            "Epoch: 10 train loss: 0.620174743028592\n",
            "Epoch: 11 train loss: 0.5817866663752335\n",
            "Epoch: 12 train loss: 0.5509364491840923\n",
            "Epoch: 13 train loss: 0.525487788736439\n",
            "Epoch: 14 train loss: 0.5041369589597686\n",
            "Epoch: 15 train loss: 0.48594150131445196\n",
            "Epoch: 16 train loss: 0.47029553636559035\n",
            "Epoch: 17 train loss: 0.45674824188830754\n",
            "Epoch: 18 train loss: 0.44494167537386736\n",
            "Epoch: 19 train loss: 0.4343630541235145\n",
            "Epoch: 20 train loss: 0.4249628108225143\n"
          ]
        }
      ]
    },
    {
      "cell_type": "markdown",
      "source": [
        "3. plot the loss (just to visualize it)"
      ],
      "metadata": {
        "id": "-iBvafBqDQ2P"
      }
    },
    {
      "cell_type": "code",
      "source": [
        "title = \"MNIST Training Loss: optimizer {}, lr {}\".format(\"SGD\", learning_rate)\n",
        "plot_loss(title, training_loss)"
      ],
      "metadata": {
        "colab": {
          "base_uri": "https://localhost:8080/",
          "height": 472
        },
        "id": "Xf55TwMGBCvy",
        "outputId": "359f86a4-193d-4f28-91e0-de338be86abd"
      },
      "execution_count": 13,
      "outputs": [
        {
          "output_type": "display_data",
          "data": {
            "text/plain": [
              "<Figure size 640x480 with 1 Axes>"
            ],
            "image/png": "[encoded data removed]"
          },
          "metadata": {}
        }
      ]
    },
    {
      "cell_type": "markdown",
      "source": [
        "4. test the classifier and show the accuracy"
      ],
      "metadata": {
        "id": "UyP4Y7vSMQMy"
      }
    },
    {
      "cell_type": "code",
      "source": [
        "accuracy = test(classifier, test_loader, nn.CrossEntropyLoss())\n",
        "print(\"total accuracy:\", accuracy.item())"
      ],
      "metadata": {
        "colab": {
          "base_uri": "https://localhost:8080/"
        },
        "id": "14DqcsE4JgWk",
        "outputId": "3fdfc090-37d9-4d53-a88a-7569eec74642"
      },
      "execution_count": 12,
      "outputs": [
        {
          "output_type": "stream",
          "name": "stdout",
          "text": [
            "Test loss: 0.006171080112457275, test accuracy: 89.69999694824219\n",
            "total accuracy: 89.69999694824219\n"
          ]
        }
      ]
    },
    {
      "cell_type": "markdown",
      "source": [
        "5. pick some images from the validation dataset and a) classify them, and then plot that image and the correct label"
      ],
      "metadata": {
        "id": "s4iTA0QXiJiE"
      }
    },
    {
      "cell_type": "code",
      "source": [
        "labels_map = {\n",
        "    1: \"one\",\n",
        "    2: \"two\",\n",
        "    3: \"three\",\n",
        "    4: \"four\",\n",
        "    5: \"five\",\n",
        "    6: \"six\",\n",
        "    7: \"seven\",\n",
        "    8: \"eight\",\n",
        "    9: \"nine\",\n",
        "    0: \"zero\"\n",
        "}\n",
        "\n",
        "\n",
        "length = len(validation_dataset)\n",
        "\n",
        "#todo: I couldn't figure out how to get this to plt in a grid of say 12\n",
        "# https://pytorch.org/tutorials/beginner/basics/data_tutorial.html\n",
        "for i in range(1,2):\n",
        "  sample_idx = torch.randint(length, size=(1,)).item()\n",
        "  img, label = validation_dataset[sample_idx]\n",
        "\n",
        "  predicted_label = classify(img)\n",
        "  title = \"guess: \" + labels_map[predicted_label] + \"; actual: \" + labels_map[label]\n",
        "\n",
        "  plt.title(title)\n",
        "  plt.axis(\"off\")\n",
        "  plt.imshow(img.squeeze(), cmap=\"gray\")\n",
        "  plt.show()"
      ],
      "metadata": {
        "colab": {
          "base_uri": "https://localhost:8080/",
          "height": 428
        },
        "id": "ON2uOmUuOGjj",
        "outputId": "21e82d02-10dc-48ae-e57b-330889615d3a"
      },
      "execution_count": 17,
      "outputs": [
        {
          "output_type": "display_data",
          "data": {
            "text/plain": [
              "<Figure size 640x480 with 1 Axes>"
            ],
            "image/png": "[encoded data removed]"
          },
          "metadata": {}
        }
      ]
    }
  ]
}